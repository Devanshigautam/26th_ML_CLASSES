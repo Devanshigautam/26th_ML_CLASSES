{
 "cells": [
  {
   "cell_type": "code",
   "execution_count": 1,
   "id": "237f158f-6708-4292-a167-6659bd07cdd5",
   "metadata": {},
   "outputs": [],
   "source": [
    "import pandas as pd\n",
    "import tkinter as tk\n",
    "import warnings\n",
    "\n",
    "warnings.filterwarnings('ignore')"
   ]
  },
  {
   "cell_type": "code",
   "execution_count": 2,
   "id": "68e9e27e-3a9c-4efb-aa32-2d7f16726a0a",
   "metadata": {},
   "outputs": [],
   "source": [
    "app = tk.Tk()\n",
    "app.title('RECOMMENDER SYSTEM')\n",
    "app.geometry('500x200')\n",
    " \n",
    "tk.Label(app, text='Movie Watched:').place(x=25,y=25)\n",
    "tk.Label(app, text='Recommended ').place(x=25,y=100)\n",
    "tk.Label(app, text='also try').place(x=25,y=125)\n",
    "\n",
    "movie_var = tk.Variable(app)\n",
    "tk.Entry(app, textvariable=movie_var, width=28).place(x=150,y=25)\n",
    "\n",
    "recommend_var = tk.Variable(app)\n",
    "recommend_var.set('Type movie name..')\n",
    "tk.Label(app, textvariable=recommend_var).place(x=150,y=100)\n",
    "\n",
    "also_try_var = tk.Variable(app)\n",
    "also_try_var.set('Type movie name..')\n",
    "tk.Label(app, textvariable=also_try_var).place(x=150,y=125)\n",
    "def find_recommendation():\n",
    "    pass\n",
    "tk.Button(app, text='Find Suggestion').place(x=125,y=60)\n",
    "\n",
    "app.mainloop()"
   ]
  },
  {
   "cell_type": "code",
   "execution_count": null,
   "id": "a4085281-7f4a-4ab5-8985-801cddd78f6c",
   "metadata": {},
   "outputs": [],
   "source": []
  }
 ],
 "metadata": {
  "kernelspec": {
   "display_name": "Python 3",
   "language": "python",
   "name": "python3"
  },
  "language_info": {
   "codemirror_mode": {
    "name": "ipython",
    "version": 3
   },
   "file_extension": ".py",
   "mimetype": "text/x-python",
   "name": "python",
   "nbconvert_exporter": "python",
   "pygments_lexer": "ipython3",
   "version": "3.8.8"
  }
 },
 "nbformat": 4,
 "nbformat_minor": 5
}
