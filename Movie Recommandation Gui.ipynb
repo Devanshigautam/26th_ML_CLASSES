{
 "cells": [
  {
   "cell_type": "code",
   "execution_count": 68,
   "id": "9aee724a-695e-46eb-9e3c-40be9d677190",
   "metadata": {},
   "outputs": [],
   "source": [
    "import pandas as pd\n",
    "import tkinter as tk\n",
    "import warnings\n",
    "\n",
    "warnings.filterwarnings('ignore')"
   ]
  },
  {
   "cell_type": "code",
   "execution_count": 69,
   "id": "a4245171-0a5b-41e9-bcb2-978e51b7bba8",
   "metadata": {},
   "outputs": [],
   "source": [
    "app = tk.Tk()\n",
    "app.title('RECOMMENDER SYSTEM')\n",
    "app.geometry('500x200')\n",
    " \n",
    "tk.Label(app, text='Movie Watched:').place(x=25,y=25)\n",
    "tk.Label(app, text='Recommended ').place(x=25,y=100)\n",
    "tk.Label(app, text='also try').place(x=25,y=125)\n",
    "\n",
    "movie_var = tk.Variable(app)\n",
    "tk.Entry(app, textvariable=movie_var, width=28).place(x=150,y=25)\n",
    "\n",
    "recommend_var = tk.Variable(app)\n",
    "recommend_var.set('Type movie name..')\n",
    "tk.Label(app, textvariable=recommend_var).place(x=150,y=100)\n",
    "\n",
    "also_try_var = tk.Variable(app)\n",
    "also_try_var.set('Type movie name..')\n",
    "tk.Label(app, textvariable=also_try_var).place(x=150,y=125)\n",
    "def find_recommendation():\n",
    "    pass\n",
    "tk.Button(app, text='Find Suggestion').place(x=125,y=60)\n",
    "\n",
    "app.mainloop()"
   ]
  },
  {
   "cell_type": "code",
   "execution_count": 70,
   "id": "00cd651d-bb49-4162-8c28-354cb81a6097",
   "metadata": {},
   "outputs": [],
   "source": [
    "cols='user_id item_id rating timestamp'.split()\n",
    "df = pd.read_csv('u.data',sep='\\t',names=cols)\n",
    "movie_cols = ['item_id','title']+[str(i) for i in range(22)] \n",
    "movie_titles = pd.read_csv('u.itemmkg',sep='|', names = movie_cols)\n",
    "movie_titles = movie_titles[['item_id','title']]\n",
    "data = pd.merge(df,movie_titles, on='item_id')\n",
    "rating = pd.DataFrame(data.groupby('title')['rating'].mean())\n",
    "rating['count']=data['title'].value_counts()\n",
    "pivot_df = data.pivot_table(index = 'user_id', columns = 'title', values = 'rating')\n",
    "\n",
    "app = tk.Tk()\n",
    "app.title('RECOMMENDER SYSTEM')\n",
    "app.geometry('500x200')\n",
    "\n",
    "\n",
    "tk.Label(app, text='Movie Watched:').place(x=25,y=25)\n",
    "tk.Label(app, text='Recommended ').place(x=25,y=100)\n",
    "tk.Label(app, text='also try').place(x=25,y=125)\n",
    "\n",
    "movie_var = tk.Variable(app)\n",
    "tk.Entry(app, textvariable=movie_var, width=28).place(x=150,y=25)\n",
    "\n",
    "recommend_var = tk.Variable(app)\n",
    "recommend_var.set('Type movie name..')\n",
    "tk.Label(app, textvariable=recommend_var).place(x=150,y=100)\n",
    "\n",
    "also_try_var = tk.Variable(app)\n",
    "also_try_var.set('Type movie name..')\n",
    "tk.Label(app, textvariable=also_try_var).place(x=150,y=125)\n",
    "\n",
    "def find_recommendation():\n",
    "    movie = movie_var.get().lower().strip()\n",
    "    try:\n",
    "        movie = movie_titles['title'][movie_titles['title'].apply(lambda x: movie in x.lower())].values[0]\n",
    "        movie_var.set(movie)\n",
    "    except IndexError:\n",
    "        recommend_var.set('Movie Not Found')\n",
    "        also_try_var.set('Movie Not Found')\n",
    "    else:\n",
    "        corr_df = pd.DataFrame(pivot_df.corrwith(pivot_df[movie]), columns = ['correlation'])\n",
    "        corr_df.dropna(inplace=True)\n",
    "        corr_df = corr_df.join(rating['count'])\n",
    "        recommend_var.set(corr_df[(corr_df['count']>200)&(corr_df['correlation']>0.4)].sort_values(by='correlation',ascending=False).index[1])\n",
    "        also_try_var.set(corr_df[corr_df['correlation']>0.4].sort_values(by = 'correlation', ascending=False).index[0])\n",
    "        \n",
    "    \n",
    "\n",
    "    \n",
    "tk.Button(app, text='Find Suggestion',command=find_recommendation, bg='#ee0033', fg='#ffffff').place(x=125,y=60)\n",
    "\n",
    "app.mainloop()"
   ]
  },
  {
   "cell_type": "code",
   "execution_count": 74,
   "id": "8364040f-cc69-40af-9ea9-f4a08d39c230",
   "metadata": {},
   "outputs": [],
   "source": [
    "movie = 'star wars'"
   ]
  },
  {
   "cell_type": "code",
   "execution_count": 75,
   "id": "77e51cec-5b5e-4406-a5fa-868f7cac4f24",
   "metadata": {},
   "outputs": [
    {
     "data": {
      "text/plain": [
       "0       False\n",
       "1       False\n",
       "2       False\n",
       "3       False\n",
       "4       False\n",
       "        ...  \n",
       "1677    False\n",
       "1678    False\n",
       "1679    False\n",
       "1680    False\n",
       "1681    False\n",
       "Name: title, Length: 1682, dtype: bool"
      ]
     },
     "execution_count": 75,
     "metadata": {},
     "output_type": "execute_result"
    }
   ],
   "source": [
    "movie_titles['title'].apply(lambda x: movie in x.lower())"
   ]
  },
  {
   "cell_type": "code",
   "execution_count": 76,
   "id": "6907944b-c0f7-4fc0-b376-42ee593096a6",
   "metadata": {},
   "outputs": [
    {
     "data": {
      "text/html": [
       "<div>\n",
       "<style scoped>\n",
       "    .dataframe tbody tr th:only-of-type {\n",
       "        vertical-align: middle;\n",
       "    }\n",
       "\n",
       "    .dataframe tbody tr th {\n",
       "        vertical-align: top;\n",
       "    }\n",
       "\n",
       "    .dataframe thead th {\n",
       "        text-align: right;\n",
       "    }\n",
       "</style>\n",
       "<table border=\"1\" class=\"dataframe\">\n",
       "  <thead>\n",
       "    <tr style=\"text-align: right;\">\n",
       "      <th></th>\n",
       "      <th>item_id</th>\n",
       "      <th>title</th>\n",
       "    </tr>\n",
       "  </thead>\n",
       "  <tbody>\n",
       "    <tr>\n",
       "      <th>49</th>\n",
       "      <td>50</td>\n",
       "      <td>Star Wars (1977)</td>\n",
       "    </tr>\n",
       "  </tbody>\n",
       "</table>\n",
       "</div>"
      ],
      "text/plain": [
       "    item_id             title\n",
       "49       50  Star Wars (1977)"
      ]
     },
     "execution_count": 76,
     "metadata": {},
     "output_type": "execute_result"
    }
   ],
   "source": [
    "movie_titles[movie_titles['title'].apply(lambda x: movie in x.lower())]  #logical indexing er get the line for which it is true"
   ]
  },
  {
   "cell_type": "code",
   "execution_count": 77,
   "id": "b7d1a053-2d88-478c-8028-6cc6fac950bc",
   "metadata": {},
   "outputs": [
    {
     "data": {
      "text/plain": [
       "'Star Wars (1977)'"
      ]
     },
     "execution_count": 77,
     "metadata": {},
     "output_type": "execute_result"
    }
   ],
   "source": [
    "movie_titles['title'][movie_titles['title'].apply(lambda x: movie in x.lower())].values[0] #by using.values we made an numpy array of above line given in output then we apply indexing to get the name"
   ]
  },
  {
   "cell_type": "code",
   "execution_count": 72,
   "id": "68c320b0-fd5b-44be-a26d-cb315985b296",
   "metadata": {},
   "outputs": [
    {
     "data": {
      "text/plain": [
       "95     Terminator 2: Judgment Day (1991)\n",
       "194               Terminator, The (1984)\n",
       "Name: title, dtype: object"
      ]
     },
     "execution_count": 72,
     "metadata": {},
     "output_type": "execute_result"
    }
   ],
   "source": [
    "movie_titles['title'][movie_titles['title'].apply(lambda x: 'terminator' in x.lower())]  # this will give two suggestions therefore we will apply .values(0) to let them know that we want first one"
   ]
  },
  {
   "cell_type": "code",
   "execution_count": 78,
   "id": "81e6e492-be13-4575-b643-d61b334c6102",
   "metadata": {},
   "outputs": [
    {
     "data": {
      "text/plain": [
       "'Terminator 2: Judgment Day (1991)'"
      ]
     },
     "execution_count": 78,
     "metadata": {},
     "output_type": "execute_result"
    }
   ],
   "source": [
    "movie_titles['title'][movie_titles['title'].apply(lambda x: 'terminator' in x.lower())].values[0]"
   ]
  },
  {
   "cell_type": "code",
   "execution_count": null,
   "id": "f7b29ad1-bb11-4595-8392-84d088903295",
   "metadata": {},
   "outputs": [],
   "source": []
  }
 ],
 "metadata": {
  "kernelspec": {
   "display_name": "Python 3",
   "language": "python",
   "name": "python3"
  },
  "language_info": {
   "codemirror_mode": {
    "name": "ipython",
    "version": 3
   },
   "file_extension": ".py",
   "mimetype": "text/x-python",
   "name": "python",
   "nbconvert_exporter": "python",
   "pygments_lexer": "ipython3",
   "version": "3.8.8"
  }
 },
 "nbformat": 4,
 "nbformat_minor": 5
}
